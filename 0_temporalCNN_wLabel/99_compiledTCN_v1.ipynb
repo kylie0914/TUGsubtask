{
 "cells": [
  {
   "cell_type": "code",
   "execution_count": 1,
   "metadata": {},
   "outputs": [
    {
     "name": "stdout",
     "output_type": "stream",
     "text": [
      " [Home Dir.] Current path D:\\바탕화면\\conda\\tug\\own\\tug-main\\0_temporalCNN_wLabel\n",
      " Current workaing path [dataset]  D:\\바탕화면\\Dataset\\TUG\\trainSet\\2021_01_24_saveResults_최윤정\\0_sideView\n"
     ]
    }
   ],
   "source": [
    "import os\n",
    "import numpy as np \n",
    "from sklearn.model_selection import KFold  # 라벨 x_data, y_data 분포를 유지 (함께 fold)\n",
    "\n",
    "from IPython.display import clear_output\n",
    "\n",
    "np.random.seed(7)\n",
    "np.set_printoptions(precision=4, suppress=True)  # 과학적 표기 대신 소숫점 자리 4자리까지 표현\n",
    "\n",
    "rootDir = \"D:/바탕화면/Dataset/TUG/trainSet\"\n",
    "expertFolder = \"/\" + \"2021_01_24_saveResults_최윤정\"  # --- 변경 할 부분\n",
    "viewFolder = \"/\" + \"0_sideView\"\n",
    "\n",
    "print(\" [Home Dir.] Current path\", os.getcwd())  \n",
    "\n",
    "datasetDir = rootDir + expertFolder + viewFolder\n",
    "os.chdir(datasetDir) ; print(\" Current workaing path [dataset] \", os.getcwd())  # -- Dataset 있는 곳으로 경로 변경 "
   ]
  },
  {
   "cell_type": "code",
   "execution_count": 2,
   "metadata": {},
   "outputs": [],
   "source": [
    "def trainData_split(datasetDir,train_ratio = 0.6, valid_ratio=0.2, shuffle = False,  Kfold_num = 5):      \n",
    "    expDates = next(os.walk(datasetDir))[1]   #['2020_11_03', '2020_11_20_v1', '2020_11_20_v2', '2020_11_23', '2020_12_09', '2020_12_30']\n",
    "    \n",
    "    subject_number = 0\n",
    "    subjects_list = []\n",
    "    \n",
    "    for dateFolder in expDates:\n",
    "        dateDir = os.path.join(datasetDir, dateFolder)   # D:/바탕화면/Dataset/TUG/trainSet/2021_01_24_saveResults_최윤정/0_sideView\\2020_11_03\n",
    "        tmpSubjects = next(os.walk(dateDir))[1]\n",
    "        subjects_list.append(tmpSubjects)  \n",
    "        subject_number += len(tmpSubjects)\n",
    "\n",
    "    # ------ 2D -> 1D [[sub1, sub2], [sub3, sub4]] -> [sub1, sub2, sub3, sub4]\n",
    "    subjects = []\n",
    "    for eachSub in subjects_list:\n",
    "        subjects += eachSub\n",
    "    print(\" [before shuffle] 1D sub list: \" , subjects)\n",
    "\n",
    "    if shuffle:\n",
    "        np.random.shuffle(subjects)\n",
    "        print(\" [After shuffle] 1D sub list: \" , subjects)\n",
    "            \n",
    "\n",
    "#     # --- K-fold cross validation\n",
    "    \n",
    "    if Kfold_num is not 0:\n",
    "        Fold_results =[]\n",
    "        print(\" [K-Fold] K = \", Kfold_num)\n",
    "        kfold = KFold(n_splits=  Kfold_num)\n",
    "        for trainIdx, testIdx in kfold.split(subjects):\n",
    "            Fold_results.append([trainIdx, testIdx])        \n",
    "        train_Fold= []\n",
    "        test_Fold = []\n",
    "        \n",
    "        for i in range(Kfold_num):\n",
    "            tmp_train = []\n",
    "            tmp_test = []\n",
    "            for subIdx in range(len(subjects)): \n",
    "                if subIdx in Fold_results[i][0]:  # \n",
    "                    tmp_train.append(subjects[subIdx])\n",
    "                    \n",
    "                if subIdx in Fold_results[i][1]:  # -- K-fold test\n",
    "                    tmp_test.append(subjects[subIdx])\n",
    "          \n",
    "            train_Fold.append(tmp_train)\n",
    "            test_Fold.append(tmp_test)\n",
    "            print(\"\\t [process]\", i, \"-fold:\", train_Fold[i], \"\\n\\t\\t\\t   ,\", test_Fold[i])\n",
    "        print(\"\\n [results]  trainSet: \", len(train_Fold[0]) , \" 명 , testSet: \", len(test_Fold[0]), \" 명\" )\n",
    "        return train_Fold, test_Fold\n",
    "\n",
    "        \n",
    "    else:\n",
    "                # ---- Split train/test subjects (for arbitrary split)\n",
    "        trainSub_number = np.round( (len(subjects)*train_ratio), 0).astype(int)\n",
    "        validSub_number = np.round( (len(subjects)*valid_ratio), 0).astype(int)\n",
    "        testSub_number = subject_number - trainSub_number - validSub_number\n",
    "        \n",
    "        print(\"--------- no fold ----\")\n",
    "        train_subjects = subjects[ :trainSub_number]\n",
    "        valid_subjects = subjects[ trainSub_number : (trainSub_number+validSub_number)]\n",
    "        test_subjects = subjects[ (trainSub_number+validSub_number): ]\n",
    "        print(\"[results] \\n\\t Train: \" ,train_subjects, \"\\n\\t Valid: \", valid_subjects, \"\\n\\t Test: \", test_subjects)\n",
    "        print(\"\\n\\t--> # of train  : \" + str(trainSub_number) +\" 명 ,  # of valid : \"+ str(validSub_number) + \" 명 ,  # of test :\" + str(testSub_number) + \"명\")\n",
    "        return train_subjects, valid_subjects, test_subjects \n",
    "\n",
    "\n",
    "def getPelvisData(csvFile):\n",
    "    rawData = np.loadtxt(csvFile, delimiter=\",\")\n",
    "    timestamp = rawData[:,0]\n",
    "    pelvis_x = rawData[:,1]\n",
    "    pelvis_y = rawData[:,2]\n",
    "    pelvis_z = rawData[:,3]\n",
    "    actionList = rawData[:,4:9]\n",
    "    return timestamp, pelvis_x, pelvis_y, pelvis_z, actionList\n",
    "\n",
    "def create_dataset(train_subjects, valid_subjects, test_subjects):\n",
    "    train_x = np.zeros((0, numFeature))\n",
    "    train_y = np.zeros((0, numActions))\n",
    "    \n",
    "    valid_x = np.zeros((0, numFeature))\n",
    "    valid_y = np.zeros((0, numActions))\n",
    "    \n",
    "    test_x = np.zeros((0, numFeature))\n",
    "    test_y = np.zeros((0, numActions))    \n",
    "    \n",
    "    for dirpath, foldername, files in os.walk(datasetDir):\n",
    "        for filename in files:\n",
    "            if \"lpf_\" in filename:\n",
    "                subname = dirpath.split(\"\\\\\")[2] \n",
    "                csvFile = os.path.join(dirpath, filename)\n",
    "                timestamp, pelvis_x, pelvis_y, pelvis_z, actionList = getPelvisData(csvFile) \n",
    "                \n",
    "                pelvisData = np.array([pelvis_x, pelvis_y, pelvis_z]).T\n",
    "                actionData = np.array(actionList)\n",
    "                #dataset = tf.data.Dataset.from_tensor_slices( (pelvisData.astype('float32'), actionData.astype('float32')) ) \n",
    "                dataset = np.zeros( (len(pelvisData), dataset_columns) ) \n",
    "                \n",
    "                dataset[:, :-(numActions)] = pelvisData      # time , pelvis  넣음  (317,4) -- raw data \n",
    "                dataset[:, -(numActions): ] = actionData     # (335, 5) one hot encoding 수행한 actionsList\n",
    "                \n",
    "                if Kfold_num==0:\n",
    "                    if subname in train_subjects:\n",
    "                        train_x = np.append(train_x, pelvisData, axis = 0 )\n",
    "                        train_y = np.append(train_y, actionData, axis = 0 )\n",
    "\n",
    "                    elif subname in valid_subjects:\n",
    "                        valid_x = np.append(valid_x, pelvisData, axis = 0 )\n",
    "                        valid_y = np.append(valid_y, actionData, axis = 0 )\n",
    "\n",
    "                    elif subname in test_subjects:\n",
    "                        test_x = np.append(test_x, pelvisData, axis = 0 )\n",
    "                        test_y = np.append(test_y, actionData, axis = 0 )    \n",
    "                else:\n",
    "                    if subname in train_subjects:\n",
    "                        train_x = np.append(train_x, pelvisData, axis = 0 )\n",
    "                        train_y = np.append(train_y, actionData, axis = 0 )\n",
    "                    elif subname in test_subjects:\n",
    "                        test_x = np.append(test_x, pelvisData, axis = 0 )\n",
    "                        test_y = np.append(test_y, actionData, axis = 0 )   \n",
    "\n",
    "    return train_x, train_y, valid_x, valid_y, test_x, test_y \n",
    "\n"
   ]
  },
  {
   "cell_type": "code",
   "execution_count": 3,
   "metadata": {},
   "outputs": [
    {
     "name": "stdout",
     "output_type": "stream",
     "text": [
      "\n",
      " [Train] X - (65618, 3) , Y - (65618, 5) \t [Valid] X - (21296, 3), Y - (21296, 5) \t [Test] X - (18810, 3) , Y - (18810, 5)\n"
     ]
    }
   ],
   "source": [
    "# ---------------  1. subject 별로 dataset 분할 (K-fold 정함) ------------------------------------------------------#\n",
    "\n",
    "train_ratio = 0.6\n",
    "valid_ratio = 0.2\n",
    "\n",
    "Kfold_num = 0 # if kfold_num = 0 (arbitrary train/test set will be used)s\n",
    "arbitrary_dataset = True\n",
    "\n",
    "numFeature = 3\n",
    "numActions = 5\n",
    "dataset_columns = numFeature + numActions\n",
    "\n",
    "if Kfold_num == 0:\n",
    "    if arbitrary_dataset:\n",
    "\n",
    "#         normal_subjects = ['bys_tug', 'cbd_tug', 'cyj_tug', 'kw', 'kyh', 'lhs', 'NHJ_60', 'nhs', 'pjh', 'pss', 'rjh', 'yjh', 'bys', 'cbd', 'cyj', 'cyj2', 'jdh', 'jek', 'kch', 'ryu'] \n",
    "#         patients_subjects = ['JDW_tug']\n",
    "#         copy_patients_subjects = ['BYS_TUG', 'CYJ_TUG', 'PHE_TUG', 'YSJ_TUG'] \n",
    "\n",
    "\n",
    "        train_subjects = ['bys_tug', 'cbd_tug', 'cyj_tug', 'kw', 'kyh', 'nhs', 'pjh', 'pss', 'rjh', 'yjh', 'bys', 'cbd', 'cyj','BYS_TUG', 'CYJ_TUG'] \n",
    "        valid_subjects = ['cyj2', 'jdh', 'jek', 'PHE_TUG','lhs' ] \n",
    "        test_subjects =  ['kch', 'ryu', 'JDW_tug', 'YSJ_TUG','NHJ_60']\n",
    "    else:\n",
    "        train_subjects, valid_subjects, test_subjects = trainData_split(datasetDir, train_ratio = train_ratio, valid_ratio=valid_ratio, shuffle = False, Kfold_num = Kfold_num)\n",
    "        \n",
    "    train_x, train_y, valid_x, valid_y, test_x, test_y = create_dataset(train_subjects, valid_subjects, test_subjects )\n",
    "    print(\"\\n [Train] X - {0} , Y - {1} \\t [Valid] X - {2}, Y - {3} \\t [Test] X - {4} , Y - {5}\".format(train_x.shape, train_y.shape, valid_x.shape, valid_y.shape, test_x.shape, test_y.shape))\n",
    "    \n",
    "else: \n",
    "    train_fold, test_fold = trainData_split(datasetDir, shuffle = False, Kfold_num = Kfold_num) \n",
    "    print(\"\\n\\n -------------------- K-Fold Dataset ------------------------ \")\n",
    "    folds_dataset = []\n",
    "    for i in range(Kfold_num):\n",
    "        train_x, train_y, test_x, test_y = create_dataset(train_fold[i])\n",
    "        print(\" \\t Train (X,Y): {0} , {1} \\t Test (X,Y): {2} , {3}\".format(train_x.shape, train_y.shape, test_x.shape, test_y.shape))\n",
    "        folds.append((train_x, train_y, test_x, test_y)) # --- 수정 필요할듯\n",
    "    print(np.array(folds[0][0]).shape)"
   ]
  },
  {
   "cell_type": "code",
   "execution_count": 4,
   "metadata": {},
   "outputs": [
    {
     "name": "stdout",
     "output_type": "stream",
     "text": [
      "\n",
      " [Train] X - (65618, 1, 3) , Y - (65618, 5, 1) \t [Valid] X - (21296, 1, 3), Y - (21296, 5, 1) \t [Test] X - (18810, 1, 3) , Y - (18810, 5, 1)\n"
     ]
    }
   ],
   "source": [
    "x_train = train_x.reshape(-1, 1, 3)\n",
    "x_valid = valid_x.reshape(-1, 1, 3)\n",
    "x_test = test_x.reshape(-1, 1, 3)\n",
    "\n",
    "y_train = np.expand_dims(train_y, axis=2)\n",
    "y_valid = np.expand_dims(valid_y, axis=2)\n",
    "y_test = np.expand_dims(test_y, axis=2)\n",
    "\n",
    "print(\"\\n [Train] X - {0} , Y - {1} \\t [Valid] X - {2}, Y - {3} \\t [Test] X - {4} , Y - {5}\".format(x_train.shape, y_train.shape, x_valid.shape, y_valid.shape, x_test.shape, y_test.shape))"
   ]
  },
  {
   "cell_type": "code",
   "execution_count": 5,
   "metadata": {},
   "outputs": [
    {
     "name": "stdout",
     "output_type": "stream",
     "text": [
      "x.shape= (None, 20)\n",
      "model.x = (None, 1, 3)\n",
      "model.y = (None, 5)\n",
      "\n",
      "\n",
      "Model: \"functional_1\"\n",
      "_________________________________________________________________\n",
      "Layer (type)                 Output Shape              Param #   \n",
      "=================================================================\n",
      "input_1 (InputLayer)         [(None, 1, 3)]            0         \n",
      "_________________________________________________________________\n",
      "tcn (TCN)                    (None, 20)                41600     \n",
      "_________________________________________________________________\n",
      "dense (Dense)                (None, 5)                 105       \n",
      "_________________________________________________________________\n",
      "activation (Activation)      (None, 5)                 0         \n",
      "=================================================================\n",
      "Total params: 41,705\n",
      "Trainable params: 41,705\n",
      "Non-trainable params: 0\n",
      "_________________________________________________________________\n"
     ]
    }
   ],
   "source": [
    "from tcn import TCN, compiled_tcn\n",
    "\n",
    "model = compiled_tcn(return_sequences=False,\n",
    "                         num_feat=3,\n",
    "                         num_classes=5,\n",
    "                         nb_filters=20,\n",
    "                         kernel_size=6,\n",
    "                         dilations=[2 ** i for i in range(9)],\n",
    "                         nb_stacks=1,\n",
    "                         max_len=x_train[0:1].shape[1],\n",
    "                         use_skip_connections=True)\n",
    "\n",
    "print(\"\\n\")\n",
    "model.summary()"
   ]
  },
  {
   "cell_type": "code",
   "execution_count": 6,
   "metadata": {},
   "outputs": [
    {
     "name": "stdout",
     "output_type": "stream",
     "text": [
      "x_train.shape = (65618, 1, 3)\n",
      "y_train.shape = (65618, 5, 1)\n",
      "x_test.shape = (18810, 1, 3)\n",
      "y_test.shape = (18810, 5, 1)\n",
      "[0 0 0 ... 0 0 0]\n"
     ]
    }
   ],
   "source": [
    "print(f'x_train.shape = {x_train.shape}')\n",
    "print(f'y_train.shape = {y_train.shape}')\n",
    "print(f'x_test.shape = {x_test.shape}')\n",
    "print(f'y_test.shape = {y_test.shape}')\n",
    "\n",
    "\n",
    "y_train = y_train.squeeze().argmax(axis=1)\n",
    "y_test = y_test.squeeze().argmax(axis=1)\n",
    "print(y_train)"
   ]
  },
  {
   "cell_type": "code",
   "execution_count": 7,
   "metadata": {},
   "outputs": [
    {
     "name": "stdout",
     "output_type": "stream",
     "text": [
      "Epoch 1/10\n",
      "2051/2051 [==============================] - 41s 20ms/step - loss: 0.5811 - accuracy: 0.7589 - val_loss: 0.5872 - val_accuracy: 0.7570\n",
      "Epoch 2/10\n",
      "2051/2051 [==============================] - 40s 20ms/step - loss: 0.5334 - accuracy: 0.7708 - val_loss: 0.5992 - val_accuracy: 0.7628\n",
      "Epoch 3/10\n",
      "2051/2051 [==============================] - 40s 20ms/step - loss: 0.5186 - accuracy: 0.7770 - val_loss: 0.6117 - val_accuracy: 0.7561\n",
      "Epoch 4/10\n",
      "2051/2051 [==============================] - 40s 20ms/step - loss: 0.5107 - accuracy: 0.7813 - val_loss: 0.6043 - val_accuracy: 0.7548\n",
      "Epoch 5/10\n",
      "2051/2051 [==============================] - 40s 20ms/step - loss: 0.5072 - accuracy: 0.7815 - val_loss: 0.6082 - val_accuracy: 0.7611\n",
      "Epoch 6/10\n",
      "2051/2051 [==============================] - 40s 20ms/step - loss: 0.5026 - accuracy: 0.7836 - val_loss: 0.5976 - val_accuracy: 0.7559\n",
      "Epoch 7/10\n",
      "2051/2051 [==============================] - 40s 19ms/step - loss: 0.4992 - accuracy: 0.7839 - val_loss: 0.6883 - val_accuracy: 0.7246\n",
      "Epoch 8/10\n",
      "2051/2051 [==============================] - 40s 20ms/step - loss: 0.4972 - accuracy: 0.7858 - val_loss: 0.6543 - val_accuracy: 0.7368\n",
      "Epoch 9/10\n",
      "2051/2051 [==============================] - 40s 19ms/step - loss: 0.4946 - accuracy: 0.7854 - val_loss: 0.6279 - val_accuracy: 0.7450\n",
      "Epoch 10/10\n",
      "2051/2051 [==============================] - 40s 20ms/step - loss: 0.4924 - accuracy: 0.7862 - val_loss: 0.6341 - val_accuracy: 0.7452\n"
     ]
    }
   ],
   "source": [
    "history = model.fit(x_train, y_train, epochs=10,validation_data=(x_test, y_test), workers=4, use_multiprocessing=True)"
   ]
  },
  {
   "cell_type": "code",
   "execution_count": 12,
   "metadata": {},
   "outputs": [
    {
     "data": {
      "image/png": "[encoded data removed]",
      "text/plain": [
       "<Figure size 432x288 with 1 Axes>"
      ]
     },
     "metadata": {
      "needs_background": "light"
     },
     "output_type": "display_data"
    }
   ],
   "source": [
    "import matplotlib.pyplot as plt\n",
    "\n",
    "plt.plot(history.history[\"accuracy\"])\n",
    "plt.plot(history.history[\"val_accuracy\"])\n",
    "plt.title(\"model accuracy\")\n",
    "plt.ylabel(\"accuracy\")\n",
    "plt.xlabel(\"epoch\")\n",
    "\n",
    "plt.legend([\"train\",\"valid\"], loc= \"upper left\")\n",
    "plt.show()\n"
   ]
  },
  {
   "cell_type": "code",
   "execution_count": null,
   "metadata": {},
   "outputs": [],
   "source": []
  },
  {
   "cell_type": "code",
   "execution_count": null,
   "metadata": {},
   "outputs": [],
   "source": []
  },
  {
   "cell_type": "code",
   "execution_count": null,
   "metadata": {},
   "outputs": [],
   "source": []
  },
  {
   "cell_type": "code",
   "execution_count": null,
   "metadata": {},
   "outputs": [],
   "source": []
  },
  {
   "cell_type": "code",
   "execution_count": null,
   "metadata": {},
   "outputs": [],
   "source": []
  },
  {
   "cell_type": "code",
   "execution_count": 11,
   "metadata": {},
   "outputs": [
    {
     "name": "stdout",
     "output_type": "stream",
     "text": [
      "x_train:  (65615, 3, 3)  , y_train:  (65615, 5)\n",
      "x_valid:  (21293, 3, 3)  , y_valid:  (21293, 5)\n",
      "x_test:  (18807, 3, 3)   , y_test:  (18807, 5)\n"
     ]
    }
   ],
   "source": [
    "from sklearn.preprocessing import MinMaxScaler\n",
    "import tqdm\n",
    "\n",
    "lookback_window = 8\n",
    "\n",
    "def sliding_window(data_x, data_y, lookback_window=15):\n",
    "    x = []\n",
    "    y = []\n",
    "    enc = MinMaxScaler(feature_range = (0, 1))\n",
    "    enc_y = enc.fit_transform(data_y)\n",
    "    for i in range(lookback_window, len(data_x)):\n",
    "        x.append(data_x[i - lookback_window:i])\n",
    "        y.append(data_y[i])\n",
    "        \n",
    "    x = np.array(x)\n",
    "    y = np.array(y)\n",
    "    return x, y, enc\n",
    "\n",
    "\n",
    "x_train, y_train, enc_train = sliding_window(train_x, train_y,  lookback_window=lookback_window) # (57207, 15, 3)\n",
    "x_valid, y_valid, enc_valid = sliding_window(valid_x, valid_y,  lookback_window=lookback_window)\n",
    "x_test, y_test, enc_test = sliding_window(test_x, test_y, lookback_window=lookback_window)\n",
    "print(\"x_train: \", x_train.shape,\" , y_train: \", y_train.shape)\n",
    "print(\"x_valid: \",x_valid.shape, \" , y_valid: \",y_valid.shape)\n",
    "print(\"x_test: \",x_test.shape, \"  , y_test: \",y_test.shape)\n"
   ]
  },
  {
   "cell_type": "markdown",
   "metadata": {},
   "source": [
    "### Model Build"
   ]
  },
  {
   "cell_type": "code",
   "execution_count": 12,
   "metadata": {},
   "outputs": [],
   "source": [
    "from keras.layers import Conv1D, Input, Activation, Flatten, Dense, Conv2D\n",
    "from keras.layers import BatchNormalization, add , Dropout\n",
    "from keras.models import Model\n",
    "from keras.optimizers import Adam\n",
    "\n",
    "from keras.callbacks import ModelCheckpoint, EarlyStopping\n",
    "\n",
    "from tcn import TCN"
   ]
  },
  {
   "cell_type": "code",
   "execution_count": 14,
   "metadata": {},
   "outputs": [
    {
     "name": "stdout",
     "output_type": "stream",
     "text": [
      "Model: \"functional_5\"\n",
      "_________________________________________________________________\n",
      "Layer (type)                 Output Shape              Param #   \n",
      "=================================================================\n",
      "input_3 (InputLayer)         [(None, 3, 3)]            0         \n",
      "_________________________________________________________________\n",
      "tcn_1 (TCN)                  (None, 64)                91520     \n",
      "_________________________________________________________________\n",
      "dense_2 (Dense)              (None, 5)                 325       \n",
      "=================================================================\n",
      "Total params: 91,845\n",
      "Trainable params: 91,845\n",
      "Non-trainable params: 0\n",
      "_________________________________________________________________\n"
     ]
    }
   ],
   "source": [
    "i = Input(shape=(lookback_window, 3))\n",
    "m = TCN()(i)\n",
    "m = Dense(5, activation='softmax')(m)\n",
    "\n",
    "model = Model(inputs=[i], outputs=[m])\n",
    "model.summary()\n",
    "\n",
    "model.compile('adam','categorical_crossentropy')"
   ]
  },
  {
   "cell_type": "code",
   "execution_count": 15,
   "metadata": {},
   "outputs": [
    {
     "name": "stdout",
     "output_type": "stream",
     "text": [
      "Train...\n",
      "Epoch 1/100\n",
      "2051/2051 [==============================] - 8s 4ms/step - loss: 0.3950\n",
      "Epoch 2/100\n",
      "2051/2051 [==============================] - 8s 4ms/step - loss: 0.2474\n",
      "Epoch 3/100\n",
      "2051/2051 [==============================] - 8s 4ms/step - loss: 0.2261\n",
      "Epoch 4/100\n",
      "2051/2051 [==============================] - 8s 4ms/step - loss: 0.2137\n",
      "Epoch 5/100\n",
      "2051/2051 [==============================] - 8s 4ms/step - loss: 0.2035\n",
      "Epoch 6/100\n",
      " 263/2051 [==>...........................] - ETA: 7s - loss: 0.2039"
     ]
    },
    {
     "ename": "KeyboardInterrupt",
     "evalue": "",
     "output_type": "error",
     "traceback": [
      "\u001b[1;31m---------------------------------------------------------------------------\u001b[0m",
      "\u001b[1;31mKeyboardInterrupt\u001b[0m                         Traceback (most recent call last)",
      "\u001b[1;32m<ipython-input-15-29670b35f841>\u001b[0m in \u001b[0;36m<module>\u001b[1;34m\u001b[0m\n\u001b[0;32m      1\u001b[0m \u001b[0mprint\u001b[0m\u001b[1;33m(\u001b[0m\u001b[1;34m'Train...'\u001b[0m\u001b[1;33m)\u001b[0m\u001b[1;33m\u001b[0m\u001b[0m\n\u001b[1;32m----> 2\u001b[1;33m \u001b[0mmodel\u001b[0m\u001b[1;33m.\u001b[0m\u001b[0mfit\u001b[0m\u001b[1;33m(\u001b[0m\u001b[0mx_train\u001b[0m\u001b[1;33m,\u001b[0m \u001b[0my_train\u001b[0m\u001b[1;33m,\u001b[0m \u001b[0mepochs\u001b[0m\u001b[1;33m=\u001b[0m\u001b[1;36m100\u001b[0m\u001b[1;33m)\u001b[0m\u001b[1;33m\u001b[0m\u001b[0m\n\u001b[0m",
      "\u001b[1;32m~\\Miniconda3\\envs\\keras\\lib\\site-packages\\tensorflow\\python\\keras\\engine\\training.py\u001b[0m in \u001b[0;36m_method_wrapper\u001b[1;34m(self, *args, **kwargs)\u001b[0m\n\u001b[0;32m    106\u001b[0m   \u001b[1;32mdef\u001b[0m \u001b[0m_method_wrapper\u001b[0m\u001b[1;33m(\u001b[0m\u001b[0mself\u001b[0m\u001b[1;33m,\u001b[0m \u001b[1;33m*\u001b[0m\u001b[0margs\u001b[0m\u001b[1;33m,\u001b[0m \u001b[1;33m**\u001b[0m\u001b[0mkwargs\u001b[0m\u001b[1;33m)\u001b[0m\u001b[1;33m:\u001b[0m\u001b[1;33m\u001b[0m\u001b[0m\n\u001b[0;32m    107\u001b[0m     \u001b[1;32mif\u001b[0m \u001b[1;32mnot\u001b[0m \u001b[0mself\u001b[0m\u001b[1;33m.\u001b[0m\u001b[0m_in_multi_worker_mode\u001b[0m\u001b[1;33m(\u001b[0m\u001b[1;33m)\u001b[0m\u001b[1;33m:\u001b[0m  \u001b[1;31m# pylint: disable=protected-access\u001b[0m\u001b[1;33m\u001b[0m\u001b[0m\n\u001b[1;32m--> 108\u001b[1;33m       \u001b[1;32mreturn\u001b[0m \u001b[0mmethod\u001b[0m\u001b[1;33m(\u001b[0m\u001b[0mself\u001b[0m\u001b[1;33m,\u001b[0m \u001b[1;33m*\u001b[0m\u001b[0margs\u001b[0m\u001b[1;33m,\u001b[0m \u001b[1;33m**\u001b[0m\u001b[0mkwargs\u001b[0m\u001b[1;33m)\u001b[0m\u001b[1;33m\u001b[0m\u001b[0m\n\u001b[0m\u001b[0;32m    109\u001b[0m \u001b[1;33m\u001b[0m\u001b[0m\n\u001b[0;32m    110\u001b[0m     \u001b[1;31m# Running inside `run_distribute_coordinator` already.\u001b[0m\u001b[1;33m\u001b[0m\u001b[1;33m\u001b[0m\u001b[0m\n",
      "\u001b[1;32m~\\Miniconda3\\envs\\keras\\lib\\site-packages\\tensorflow\\python\\keras\\engine\\training.py\u001b[0m in \u001b[0;36mfit\u001b[1;34m(self, x, y, batch_size, epochs, verbose, callbacks, validation_split, validation_data, shuffle, class_weight, sample_weight, initial_epoch, steps_per_epoch, validation_steps, validation_batch_size, validation_freq, max_queue_size, workers, use_multiprocessing)\u001b[0m\n\u001b[0;32m   1096\u001b[0m                 batch_size=batch_size):\n\u001b[0;32m   1097\u001b[0m               \u001b[0mcallbacks\u001b[0m\u001b[1;33m.\u001b[0m\u001b[0mon_train_batch_begin\u001b[0m\u001b[1;33m(\u001b[0m\u001b[0mstep\u001b[0m\u001b[1;33m)\u001b[0m\u001b[1;33m\u001b[0m\u001b[0m\n\u001b[1;32m-> 1098\u001b[1;33m               \u001b[0mtmp_logs\u001b[0m \u001b[1;33m=\u001b[0m \u001b[0mtrain_function\u001b[0m\u001b[1;33m(\u001b[0m\u001b[0miterator\u001b[0m\u001b[1;33m)\u001b[0m\u001b[1;33m\u001b[0m\u001b[0m\n\u001b[0m\u001b[0;32m   1099\u001b[0m               \u001b[1;32mif\u001b[0m \u001b[0mdata_handler\u001b[0m\u001b[1;33m.\u001b[0m\u001b[0mshould_sync\u001b[0m\u001b[1;33m:\u001b[0m\u001b[1;33m\u001b[0m\u001b[0m\n\u001b[0;32m   1100\u001b[0m                 \u001b[0mcontext\u001b[0m\u001b[1;33m.\u001b[0m\u001b[0masync_wait\u001b[0m\u001b[1;33m(\u001b[0m\u001b[1;33m)\u001b[0m\u001b[1;33m\u001b[0m\u001b[0m\n",
      "\u001b[1;32m~\\Miniconda3\\envs\\keras\\lib\\site-packages\\tensorflow\\python\\eager\\def_function.py\u001b[0m in \u001b[0;36m__call__\u001b[1;34m(self, *args, **kwds)\u001b[0m\n\u001b[0;32m    778\u001b[0m       \u001b[1;32melse\u001b[0m\u001b[1;33m:\u001b[0m\u001b[1;33m\u001b[0m\u001b[0m\n\u001b[0;32m    779\u001b[0m         \u001b[0mcompiler\u001b[0m \u001b[1;33m=\u001b[0m \u001b[1;34m\"nonXla\"\u001b[0m\u001b[1;33m\u001b[0m\u001b[0m\n\u001b[1;32m--> 780\u001b[1;33m         \u001b[0mresult\u001b[0m \u001b[1;33m=\u001b[0m \u001b[0mself\u001b[0m\u001b[1;33m.\u001b[0m\u001b[0m_call\u001b[0m\u001b[1;33m(\u001b[0m\u001b[1;33m*\u001b[0m\u001b[0margs\u001b[0m\u001b[1;33m,\u001b[0m \u001b[1;33m**\u001b[0m\u001b[0mkwds\u001b[0m\u001b[1;33m)\u001b[0m\u001b[1;33m\u001b[0m\u001b[0m\n\u001b[0m\u001b[0;32m    781\u001b[0m \u001b[1;33m\u001b[0m\u001b[0m\n\u001b[0;32m    782\u001b[0m       \u001b[0mnew_tracing_count\u001b[0m \u001b[1;33m=\u001b[0m \u001b[0mself\u001b[0m\u001b[1;33m.\u001b[0m\u001b[0m_get_tracing_count\u001b[0m\u001b[1;33m(\u001b[0m\u001b[1;33m)\u001b[0m\u001b[1;33m\u001b[0m\u001b[0m\n",
      "\u001b[1;32m~\\Miniconda3\\envs\\keras\\lib\\site-packages\\tensorflow\\python\\eager\\def_function.py\u001b[0m in \u001b[0;36m_call\u001b[1;34m(self, *args, **kwds)\u001b[0m\n\u001b[0;32m    805\u001b[0m       \u001b[1;31m# In this case we have created variables on the first call, so we run the\u001b[0m\u001b[1;33m\u001b[0m\u001b[1;33m\u001b[0m\u001b[0m\n\u001b[0;32m    806\u001b[0m       \u001b[1;31m# defunned version which is guaranteed to never create variables.\u001b[0m\u001b[1;33m\u001b[0m\u001b[1;33m\u001b[0m\u001b[0m\n\u001b[1;32m--> 807\u001b[1;33m       \u001b[1;32mreturn\u001b[0m \u001b[0mself\u001b[0m\u001b[1;33m.\u001b[0m\u001b[0m_stateless_fn\u001b[0m\u001b[1;33m(\u001b[0m\u001b[1;33m*\u001b[0m\u001b[0margs\u001b[0m\u001b[1;33m,\u001b[0m \u001b[1;33m**\u001b[0m\u001b[0mkwds\u001b[0m\u001b[1;33m)\u001b[0m  \u001b[1;31m# pylint: disable=not-callable\u001b[0m\u001b[1;33m\u001b[0m\u001b[0m\n\u001b[0m\u001b[0;32m    808\u001b[0m     \u001b[1;32melif\u001b[0m \u001b[0mself\u001b[0m\u001b[1;33m.\u001b[0m\u001b[0m_stateful_fn\u001b[0m \u001b[1;32mis\u001b[0m \u001b[1;32mnot\u001b[0m \u001b[1;32mNone\u001b[0m\u001b[1;33m:\u001b[0m\u001b[1;33m\u001b[0m\u001b[0m\n\u001b[0;32m    809\u001b[0m       \u001b[1;31m# Release the lock early so that multiple threads can perform the call\u001b[0m\u001b[1;33m\u001b[0m\u001b[1;33m\u001b[0m\u001b[0m\n",
      "\u001b[1;32m~\\Miniconda3\\envs\\keras\\lib\\site-packages\\tensorflow\\python\\eager\\function.py\u001b[0m in \u001b[0;36m__call__\u001b[1;34m(self, *args, **kwargs)\u001b[0m\n\u001b[0;32m   2827\u001b[0m     \u001b[1;32mwith\u001b[0m \u001b[0mself\u001b[0m\u001b[1;33m.\u001b[0m\u001b[0m_lock\u001b[0m\u001b[1;33m:\u001b[0m\u001b[1;33m\u001b[0m\u001b[0m\n\u001b[0;32m   2828\u001b[0m       \u001b[0mgraph_function\u001b[0m\u001b[1;33m,\u001b[0m \u001b[0margs\u001b[0m\u001b[1;33m,\u001b[0m \u001b[0mkwargs\u001b[0m \u001b[1;33m=\u001b[0m \u001b[0mself\u001b[0m\u001b[1;33m.\u001b[0m\u001b[0m_maybe_define_function\u001b[0m\u001b[1;33m(\u001b[0m\u001b[0margs\u001b[0m\u001b[1;33m,\u001b[0m \u001b[0mkwargs\u001b[0m\u001b[1;33m)\u001b[0m\u001b[1;33m\u001b[0m\u001b[0m\n\u001b[1;32m-> 2829\u001b[1;33m     \u001b[1;32mreturn\u001b[0m \u001b[0mgraph_function\u001b[0m\u001b[1;33m.\u001b[0m\u001b[0m_filtered_call\u001b[0m\u001b[1;33m(\u001b[0m\u001b[0margs\u001b[0m\u001b[1;33m,\u001b[0m \u001b[0mkwargs\u001b[0m\u001b[1;33m)\u001b[0m  \u001b[1;31m# pylint: disable=protected-access\u001b[0m\u001b[1;33m\u001b[0m\u001b[0m\n\u001b[0m\u001b[0;32m   2830\u001b[0m \u001b[1;33m\u001b[0m\u001b[0m\n\u001b[0;32m   2831\u001b[0m   \u001b[1;33m@\u001b[0m\u001b[0mproperty\u001b[0m\u001b[1;33m\u001b[0m\u001b[0m\n",
      "\u001b[1;32m~\\Miniconda3\\envs\\keras\\lib\\site-packages\\tensorflow\\python\\eager\\function.py\u001b[0m in \u001b[0;36m_filtered_call\u001b[1;34m(self, args, kwargs, cancellation_manager)\u001b[0m\n\u001b[0;32m   1846\u001b[0m                            resource_variable_ops.BaseResourceVariable))],\n\u001b[0;32m   1847\u001b[0m         \u001b[0mcaptured_inputs\u001b[0m\u001b[1;33m=\u001b[0m\u001b[0mself\u001b[0m\u001b[1;33m.\u001b[0m\u001b[0mcaptured_inputs\u001b[0m\u001b[1;33m,\u001b[0m\u001b[1;33m\u001b[0m\u001b[0m\n\u001b[1;32m-> 1848\u001b[1;33m         cancellation_manager=cancellation_manager)\n\u001b[0m\u001b[0;32m   1849\u001b[0m \u001b[1;33m\u001b[0m\u001b[0m\n\u001b[0;32m   1850\u001b[0m   \u001b[1;32mdef\u001b[0m \u001b[0m_call_flat\u001b[0m\u001b[1;33m(\u001b[0m\u001b[0mself\u001b[0m\u001b[1;33m,\u001b[0m \u001b[0margs\u001b[0m\u001b[1;33m,\u001b[0m \u001b[0mcaptured_inputs\u001b[0m\u001b[1;33m,\u001b[0m \u001b[0mcancellation_manager\u001b[0m\u001b[1;33m=\u001b[0m\u001b[1;32mNone\u001b[0m\u001b[1;33m)\u001b[0m\u001b[1;33m:\u001b[0m\u001b[1;33m\u001b[0m\u001b[0m\n",
      "\u001b[1;32m~\\Miniconda3\\envs\\keras\\lib\\site-packages\\tensorflow\\python\\eager\\function.py\u001b[0m in \u001b[0;36m_call_flat\u001b[1;34m(self, args, captured_inputs, cancellation_manager)\u001b[0m\n\u001b[0;32m   1922\u001b[0m       \u001b[1;31m# No tape is watching; skip to running the function.\u001b[0m\u001b[1;33m\u001b[0m\u001b[1;33m\u001b[0m\u001b[0m\n\u001b[0;32m   1923\u001b[0m       return self._build_call_outputs(self._inference_function.call(\n\u001b[1;32m-> 1924\u001b[1;33m           ctx, args, cancellation_manager=cancellation_manager))\n\u001b[0m\u001b[0;32m   1925\u001b[0m     forward_backward = self._select_forward_and_backward_functions(\n\u001b[0;32m   1926\u001b[0m         \u001b[0margs\u001b[0m\u001b[1;33m,\u001b[0m\u001b[1;33m\u001b[0m\u001b[0m\n",
      "\u001b[1;32m~\\Miniconda3\\envs\\keras\\lib\\site-packages\\tensorflow\\python\\eager\\function.py\u001b[0m in \u001b[0;36mcall\u001b[1;34m(self, ctx, args, cancellation_manager)\u001b[0m\n\u001b[0;32m    548\u001b[0m               \u001b[0minputs\u001b[0m\u001b[1;33m=\u001b[0m\u001b[0margs\u001b[0m\u001b[1;33m,\u001b[0m\u001b[1;33m\u001b[0m\u001b[0m\n\u001b[0;32m    549\u001b[0m               \u001b[0mattrs\u001b[0m\u001b[1;33m=\u001b[0m\u001b[0mattrs\u001b[0m\u001b[1;33m,\u001b[0m\u001b[1;33m\u001b[0m\u001b[0m\n\u001b[1;32m--> 550\u001b[1;33m               ctx=ctx)\n\u001b[0m\u001b[0;32m    551\u001b[0m         \u001b[1;32melse\u001b[0m\u001b[1;33m:\u001b[0m\u001b[1;33m\u001b[0m\u001b[0m\n\u001b[0;32m    552\u001b[0m           outputs = execute.execute_with_cancellation(\n",
      "\u001b[1;32m~\\Miniconda3\\envs\\keras\\lib\\site-packages\\tensorflow\\python\\eager\\execute.py\u001b[0m in \u001b[0;36mquick_execute\u001b[1;34m(op_name, num_outputs, inputs, attrs, ctx, name)\u001b[0m\n\u001b[0;32m     58\u001b[0m     \u001b[0mctx\u001b[0m\u001b[1;33m.\u001b[0m\u001b[0mensure_initialized\u001b[0m\u001b[1;33m(\u001b[0m\u001b[1;33m)\u001b[0m\u001b[1;33m\u001b[0m\u001b[0m\n\u001b[0;32m     59\u001b[0m     tensors = pywrap_tfe.TFE_Py_Execute(ctx._handle, device_name, op_name,\n\u001b[1;32m---> 60\u001b[1;33m                                         inputs, attrs, num_outputs)\n\u001b[0m\u001b[0;32m     61\u001b[0m   \u001b[1;32mexcept\u001b[0m \u001b[0mcore\u001b[0m\u001b[1;33m.\u001b[0m\u001b[0m_NotOkStatusException\u001b[0m \u001b[1;32mas\u001b[0m \u001b[0me\u001b[0m\u001b[1;33m:\u001b[0m\u001b[1;33m\u001b[0m\u001b[0m\n\u001b[0;32m     62\u001b[0m     \u001b[1;32mif\u001b[0m \u001b[0mname\u001b[0m \u001b[1;32mis\u001b[0m \u001b[1;32mnot\u001b[0m \u001b[1;32mNone\u001b[0m\u001b[1;33m:\u001b[0m\u001b[1;33m\u001b[0m\u001b[0m\n",
      "\u001b[1;31mKeyboardInterrupt\u001b[0m: "
     ]
    }
   ],
   "source": [
    "print('Train...')\n",
    "model.fit(x_train, y_train, epochs=100)"
   ]
  },
  {
   "cell_type": "code",
   "execution_count": null,
   "metadata": {},
   "outputs": [],
   "source": []
  }
 ],
 "metadata": {
  "kernelspec": {
   "display_name": "Python 3",
   "language": "python",
   "name": "python3"
  },
  "language_info": {
   "codemirror_mode": {
    "name": "ipython",
    "version": 3
   },
   "file_extension": ".py",
   "mimetype": "text/x-python",
   "name": "python",
   "nbconvert_exporter": "python",
   "pygments_lexer": "ipython3",
   "version": "3.7.0"
  }
 },
 "nbformat": 4,
 "nbformat_minor": 4
}
