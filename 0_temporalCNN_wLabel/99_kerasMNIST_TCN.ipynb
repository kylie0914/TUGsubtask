{
 "cells": [
  {
   "cell_type": "code",
   "execution_count": 5,
   "metadata": {},
   "outputs": [
    {
     "ename": "ModuleNotFoundError",
     "evalue": "No module named 'tensorflow.examples.tutorials'",
     "output_type": "error",
     "traceback": [
      "\u001b[1;31m---------------------------------------------------------------------------\u001b[0m",
      "\u001b[1;31mModuleNotFoundError\u001b[0m                       Traceback (most recent call last)",
      "\u001b[1;32m<ipython-input-5-5500a51356ac>\u001b[0m in \u001b[0;36m<module>\u001b[1;34m\u001b[0m\n\u001b[1;32m----> 1\u001b[1;33m \u001b[1;32mfrom\u001b[0m \u001b[0mtensorflow\u001b[0m\u001b[1;33m.\u001b[0m\u001b[0mexamples\u001b[0m\u001b[1;33m.\u001b[0m\u001b[0mtutorials\u001b[0m\u001b[1;33m.\u001b[0m\u001b[0mmnist\u001b[0m \u001b[1;32mimport\u001b[0m \u001b[0minput_data\u001b[0m\u001b[1;33m\u001b[0m\u001b[0m\n\u001b[0m\u001b[0;32m      2\u001b[0m \u001b[1;32mfrom\u001b[0m \u001b[0mkeras\u001b[0m\u001b[1;33m.\u001b[0m\u001b[0mmodels\u001b[0m \u001b[1;32mimport\u001b[0m \u001b[0mModel\u001b[0m\u001b[1;33m\u001b[0m\u001b[0m\n\u001b[0;32m      3\u001b[0m \u001b[1;32mfrom\u001b[0m \u001b[0mkeras\u001b[0m\u001b[1;33m.\u001b[0m\u001b[0mlayers\u001b[0m \u001b[1;32mimport\u001b[0m \u001b[0madd\u001b[0m\u001b[1;33m,\u001b[0m\u001b[0mInput\u001b[0m\u001b[1;33m,\u001b[0m\u001b[0mConv1D\u001b[0m\u001b[1;33m,\u001b[0m\u001b[0mActivation\u001b[0m\u001b[1;33m,\u001b[0m\u001b[0mFlatten\u001b[0m\u001b[1;33m,\u001b[0m\u001b[0mDense\u001b[0m\u001b[1;33m\u001b[0m\u001b[0m\n\u001b[0;32m      4\u001b[0m \u001b[1;33m\u001b[0m\u001b[0m\n\u001b[0;32m      5\u001b[0m \u001b[1;31m#Load data\u001b[0m\u001b[1;33m\u001b[0m\u001b[1;33m\u001b[0m\u001b[0m\n",
      "\u001b[1;31mModuleNotFoundError\u001b[0m: No module named 'tensorflow.examples.tutorials'"
     ]
    }
   ],
   "source": [
    "from tensorflow.examples.tutorials.mnist import input_data\n",
    "from keras.models import Model\n",
    "from keras.layers import add,Input,Conv1D,Activation,Flatten,Dense\n",
    " \n",
    "#Load data\n",
    "def read_data(path):\n",
    "    mnist=input_data.read_data_sets(path,one_hot=True)\n",
    "    train_x,train_y=mnist.train.images.reshape(-1,28,28),mnist.train.labels,\n",
    "    valid_x,valid_y=mnist.validation.images.reshape(-1,28,28),mnist.validation.labels,\n",
    "    test_x,test_y=mnist.test.images.reshape(-1,28,28),mnist.test.labels\n",
    "    return train_x,train_y,valid_x,valid_y,test_x,test_y\n",
    " \n",
    " #Residual block\n",
    "def ResBlock(x,filters,kernel_size,dilation_rate):\n",
    "    r=Conv1D(filters,kernel_size,padding='same',dilation_rate=dilation_rate,activation='relu')(x) #first convolution\n",
    "    r=Conv1D(filters,kernel_size,padding='same',dilation_rate=dilation_rate)(r) #Second convolution\n",
    "    if x.shape[-1]==filters:\n",
    "        shortcut=x\n",
    "    else:\n",
    "        shortcut=Conv1D(filters,kernel_size,padding='same')(x) #shortcut (shortcut)\n",
    "    o=add([r,shortcut])\n",
    "    o=Activation('relu')(o) #Activation function\n",
    "    return o\n",
    " \n",
    " #Sequence Model\n",
    "def TCN(train_x,train_y,valid_x,valid_y,test_x,test_y):\n",
    "    inputs=Input(shape=(28,28))\n",
    "    x=ResBlock(inputs,filters=32,kernel_size=3,dilation_rate=1)\n",
    "    x=ResBlock(x,filters=32,kernel_size=3,dilation_rate=2)\n",
    "    x=ResBlock(x,filters=16,kernel_size=3,dilation_rate=4)\n",
    "    x=Flatten()(x)\n",
    "    x=Dense(10,activation='softmax')(x)\n",
    "    model=Model(input=inputs,output=x)\n",
    "         #View network structure\n",
    "    model.summary()\n",
    "         #Compile model\n",
    "    model.compile(optimizer='adam',loss='categorical_crossentropy',metrics=['accuracy'])\n",
    "         #Training model\n",
    "    model.fit(train_x,train_y,batch_size=500,nb_epoch=30,verbose=2,validation_data=(valid_x,valid_y))\n",
    "         #Assessment model\n",
    "    pre=model.evaluate(test_x,test_y,batch_size=500,verbose=2)\n",
    "    print('test_loss:',pre[0],'- test_acc:',pre[1])\n",
    "     \n",
    "train_x,train_y,valid_x,valid_y,test_x,test_y=read_data('MNIST_data')\n",
    "TCN(train_x,train_y,valid_x,valid_y,test_x,test_y)"
   ]
  },
  {
   "cell_type": "code",
   "execution_count": null,
   "metadata": {},
   "outputs": [],
   "source": []
  }
 ],
 "metadata": {
  "kernelspec": {
   "display_name": "Python 3",
   "language": "python",
   "name": "python3"
  },
  "language_info": {
   "codemirror_mode": {
    "name": "ipython",
    "version": 3
   },
   "file_extension": ".py",
   "mimetype": "text/x-python",
   "name": "python",
   "nbconvert_exporter": "python",
   "pygments_lexer": "ipython3",
   "version": "3.7.0"
  }
 },
 "nbformat": 4,
 "nbformat_minor": 4
}
