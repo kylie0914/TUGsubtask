{
 "cells": [
  {
   "cell_type": "code",
   "execution_count": 5,
   "metadata": {},
   "outputs": [
    {
     "name": "stdout",
     "output_type": "stream",
     "text": [
      "(60000, 28, 28)\n",
      "(60000, 784, 1)\n",
      "(60000, 784, 1) (60000, 10, 1)\n"
     ]
    }
   ],
   "source": [
    "import numpy as np\n",
    "from tensorflow.keras.datasets import mnist\n",
    "from tensorflow.keras.utils import to_categorical\n",
    "from tcn import compiled_tcn\n",
    "\n",
    "def data_generator():\n",
    "    # input image dimensions\n",
    "    img_rows, img_cols = 28, 28\n",
    "    (x_train, y_train), (x_test, y_test) = mnist.load_data()\n",
    "    print(x_train.shape )\n",
    "    x_train = x_train.reshape(-1, img_rows * img_cols, 1)\n",
    "    x_test = x_test.reshape(-1, img_rows * img_cols, 1)\n",
    "    print(x_train.shape )\n",
    "\n",
    "    num_classes = 10\n",
    "    y_train = to_categorical(y_train, num_classes)\n",
    "    y_test = to_categorical(y_test, num_classes)\n",
    "\n",
    "    y_train = np.expand_dims(y_train, axis=2)\n",
    "    y_test = np.expand_dims(y_test, axis=2)\n",
    "\n",
    "    x_train = x_train.astype('float32')\n",
    "    x_test = x_test.astype('float32')\n",
    "    x_train /= 255\n",
    "    x_test /= 255\n",
    "\n",
    "    return (x_train, y_train), (x_test, y_test)\n",
    "\n",
    "\n",
    "if __name__ == '__main__':\n",
    "#     print(data_generator())\n",
    "    (x_train, y_train), (x_test, y_test) = data_generator()\n",
    "    print(x_train.shape, y_train.shape)\n",
    "    \n"
   ]
  },
  {
   "cell_type": "code",
   "execution_count": null,
   "metadata": {},
   "outputs": [],
   "source": [
    "if __name__ == '__main__':\n",
    "model = compiled_tcn(return_sequences=False,\n",
    "                         num_feat=1,\n",
    "                         num_classes=10,\n",
    "                         nb_filters=20,\n",
    "                         kernel_size=6,\n",
    "                         dilations=[2 ** i for i in range(9)],\n",
    "                         nb_stacks=1,\n",
    "                         max_len=x_train[0:1].shape[1],\n",
    "                         use_weight_norm=True,\n",
    "                         use_skip_connections=True)\n",
    "\n",
    "    print(f'x_train.shape = {x_train.shape}')\n",
    "    print(f'y_train.shape = {y_train.shape}')\n",
    "    print(f'x_test.shape = {x_test.shape}')\n",
    "    print(f'y_test.shape = {y_test.shape}')\n",
    "\n",
    "    model.summary()\n",
    "\n",
    "    model.fit(x_train, y_train.squeeze().argmax(axis=1), epochs=100,\n",
    "              validation_data=(x_test, y_test.squeeze().argmax(axis=1)))\n"
   ]
  },
  {
   "cell_type": "code",
   "execution_count": null,
   "metadata": {},
   "outputs": [],
   "source": []
  },
  {
   "cell_type": "code",
   "execution_count": null,
   "metadata": {},
   "outputs": [],
   "source": []
  },
  {
   "cell_type": "code",
   "execution_count": null,
   "metadata": {},
   "outputs": [],
   "source": []
  },
  {
   "cell_type": "code",
   "execution_count": null,
   "metadata": {},
   "outputs": [],
   "source": [
    "\n",
    "# numFeature = 3\n",
    "# numActions = 5\n",
    "# dataset_columns = numFeature + numActions\n",
    "\n",
    "# def create_dataset(train_subjects):\n",
    "#     train_x = np.zeros((0, numFeature))\n",
    "#     train_y = np.zeros((0, numActions))\n",
    "#     test_x = np.zeros((0, numFeature))\n",
    "#     test_y = np.zeros((0, numActions))    \n",
    "    \n",
    "#     trainSet = None\n",
    "#     testSet = None\n",
    "    \n",
    "#     for dirpath, foldername, files in os.walk(datasetDir):\n",
    "#         for filename in files:\n",
    "#             if \"lpf_\" in filename:\n",
    "#                 subname = dirpath.split(\"\\\\\")[2] \n",
    "#                 csvFile = os.path.join(dirpath, filename)\n",
    "#                 timestamp, pelvis_x, pelvis_y, pelvis_z, actionList = getPelvisData(csvFile) \n",
    "                \n",
    "#                 pelvisData = np.array([pelvis_x, pelvis_y, pelvis_z]).T\n",
    "#                 actionData = np.array(actionList)\n",
    "#                 #dataset = tf.data.Dataset.from_tensor_slices( (pelvisData.astype('float32'), actionData.astype('float32')) ) \n",
    "#                 dataset = np.zeros( (len(pelvisData), dataset_columns) ) \n",
    "                \n",
    "#                 dataset[:, :-(numActions)] = pelvisData      # time , pelvis  넣음  (317,4) -- raw data \n",
    "#                 dataset[:, -(numActions): ] = actionData     # (335, 5) one hot encoding 수행한 actionsList\n",
    "                \n",
    "#                # print(np.array(dataset).shape)\n",
    "                \n",
    "#                 if subname in train_subjects:\n",
    "#                     train_x = np.append(train_x, pelvisData, axis = 0 )\n",
    "#                     train_y = np.append(train_y, actionData, axis = 0 )\n",
    "\n",
    "#                 else:\n",
    "#                     test_x = np.append(test_x, pelvisData, axis = 0 )\n",
    "#                     test_y = np.append(test_y, actionData, axis = 0 )    \n",
    "\n",
    "#     return train_x, train_y, test_x, test_y\n",
    "\n",
    "\n",
    "# # ---------------  1. subject 별로 dataset 분할 (K-fold 정함) ------------------------------------------------------#\n",
    "# Kfold_num = 0 # if kfold_num = 0 (arbitrary train/test set will be used)\n",
    "# train_Fold, test_Fold = trainData_split(datasetDir,train_ratio = 0.7, shuffle = False, Kfold_num = Kfold_num)  \n",
    "\n",
    "# # ---------------  2. dataset 생성  train_x, train_y, test_x, test_y  (k-fold 면 앞에 KFold_ 붙음) -----------------#\n",
    "# if Kfold_num == 0:  \n",
    "#     train_x, train_y, test_x, test_y = create_dataset(train_Fold)\n",
    "#     print(\"\\n Train Shape X , Y: {0} , {1} \\t Test Shape X , Y: {2} , {3}\".format(train_x.shape, train_y.shape, test_x.shape, test_y.shape))\n",
    "    \n",
    "    \n",
    "    \n",
    "    \n",
    "# else:      # -- K-fold dataset\n",
    "#     print(\"\\n\\n -------------------- K-Fold Dataset ------------------------ \")\n",
    "#     KFold_train_x = []\n",
    "#     KFold_train_y =[]\n",
    "#     KFold_test_x = []\n",
    "#     KFold_test_y = []\n",
    "#     for i in range(Kfold_num):\n",
    "#         train_x, train_y, test_x, test_y = create_dataset(train_Fold[i])\n",
    "#         KFold_train_x.append(train_x)\n",
    "#         KFold_train_y.append( train_y)\n",
    "#         KFold_test_x.append( test_x )\n",
    "#         KFold_test_y.append( test_y )\n",
    "#         print(\" \\t Train (X,Y): {0} , {1} \\t Test (X,Y): {2} , {3}\".format(train_x.shape, train_y.shape, test_x.shape, test_y.shape))\n",
    "        \n",
    "#     for i in range(Kfold_num):\n",
    "#         print(\" [\", i, \"- Fold] X , Y: ({0} , {1}) \\t Test Shape X , Y: ({2} , {3})\".format(len(KFold_train_x[i]), len(KFold_train_y[i]), len(KFold_test_x[i]), len(KFold_test_y[i]))) # \n",
    "    \n"
   ]
  },
  {
   "cell_type": "code",
   "execution_count": null,
   "metadata": {},
   "outputs": [],
   "source": []
  },
  {
   "cell_type": "code",
   "execution_count": null,
   "metadata": {},
   "outputs": [],
   "source": []
  },
  {
   "cell_type": "code",
   "execution_count": 1,
   "metadata": {},
   "outputs": [
    {
     "name": "stdout",
     "output_type": "stream",
     "text": [
      "Keras Version:  2.4.0\n"
     ]
    }
   ],
   "source": [
    "from tensorflow import keras\n",
    "from keras.datasets import mnist  \n",
    "from keras.utils import to_categorical\n",
    " # --- helper libra|ry\n",
    "import numpy as np\n",
    "import matplotlib.pyplot as plt\n",
    "\n",
    "np.random.seed(7)\n",
    "print(\"Keras Version: \", keras.__version__)"
   ]
  },
  {
   "cell_type": "code",
   "execution_count": 2,
   "metadata": {},
   "outputs": [
    {
     "name": "stdout",
     "output_type": "stream",
     "text": [
      "x_train shape: (60000, 28, 28, 1)\n",
      "60000 train samples\n",
      "10000 test samples\n"
     ]
    }
   ],
   "source": [
    "def intra_val_check(image, label):\n",
    "    for rows in image:   # 28\n",
    "        for colVal_in_rows in rows: # 28\n",
    "            print(\" {:3}\".format(colVal_in_rows), end=\"\")\n",
    "        print(\"\")\n",
    "\n",
    "    print(\"Label: \", label)\n",
    "    \n",
    "    plt.figure(figsize=(5,5))\n",
    "    plt.imshow(image, cmap= plt.cm.binary)\n",
    "    plt.xlabel(label)\n",
    "    plt.show()\n",
    "\n",
    "img_rows = 28\n",
    "img_cols = 28\n",
    "\n",
    "(x_train, y_train), (x_test, y_test) = keras.datasets.mnist.load_data()\n",
    "\n",
    "input_shape = (img_rows, img_cols, 1)\n",
    "x_train = x_train.reshape(x_train.shape[0], img_rows, img_cols, 1)\n",
    "x_test = x_test.reshape(x_test.shape[0], img_rows, img_cols, 1)\n",
    "\n",
    "x_train = x_train.astype('float32') / 255.\n",
    "x_test = x_test.astype('float32') / 255.\n",
    "\n",
    "print('x_train shape:', x_train.shape)\n",
    "print(x_train.shape[0], 'train samples')\n",
    "print(x_test.shape[0], 'test samples')\n",
    "\n",
    "batch_size = 128\n",
    "num_classes = 10\n",
    "epochs = 12\n",
    "\n",
    "y_train = keras.utils.to_categorical(y_train, num_classes)\n",
    "y_test = keras.utils.to_categorical(y_test, num_classes)\n",
    "\n",
    "\n"
   ]
  },
  {
   "cell_type": "code",
   "execution_count": 3,
   "metadata": {},
   "outputs": [],
   "source": [
    "from keras.models import Sequential , Model\n",
    "from keras.layers import Input, Dense, Conv2D, Flatten, MaxPooling2D,Dropout\n",
    "from keras.callbacks import ModelCheckpoint, EarlyStopping\n",
    "\n",
    "import os"
   ]
  },
  {
   "cell_type": "markdown",
   "metadata": {},
   "source": [
    "### Save Model"
   ]
  },
  {
   "cell_type": "code",
   "execution_count": 4,
   "metadata": {},
   "outputs": [],
   "source": [
    "MODEL_SAVE_FOLDER_PATH = \"./model/\"\n",
    "\n",
    "if not os.path.exists(MODEL_SAVE_FOLDER_PATH):\n",
    "    os.mkdir(MODEL_SAVE_FOLDER_PATH)\n",
    "    \n",
    "model_path = MODEL_SAVE_FOLDER_PATH + \"mnist-\" + \"{epoch:02d} ---- {val_loss: .4f}.hdf5\"\n",
    "\n",
    "cb_checkpoint = ModelCheckpoint(filepath=model_path, monitor=\"val_loss\", verbose=1, save_best_only=True)\n",
    "cb_early_stopping = EarlyStopping(monitor=\"val_loss\", patience=10)"
   ]
  },
  {
   "cell_type": "markdown",
   "metadata": {},
   "source": [
    "### Model Architecture"
   ]
  },
  {
   "cell_type": "code",
   "execution_count": 7,
   "metadata": {},
   "outputs": [
    {
     "name": "stdout",
     "output_type": "stream",
     "text": [
      "Model: \"sequential_2\"\n",
      "_________________________________________________________________\n",
      "Layer (type)                 Output Shape              Param #   \n",
      "=================================================================\n",
      "conv2d_4 (Conv2D)            (None, 28, 28, 32)        832       \n",
      "_________________________________________________________________\n",
      "max_pooling2d_4 (MaxPooling2 (None, 14, 14, 32)        0         \n",
      "_________________________________________________________________\n",
      "conv2d_5 (Conv2D)            (None, 14, 14, 64)        8256      \n",
      "_________________________________________________________________\n",
      "max_pooling2d_5 (MaxPooling2 (None, 7, 7, 64)          0         \n",
      "_________________________________________________________________\n",
      "dropout_4 (Dropout)          (None, 7, 7, 64)          0         \n",
      "_________________________________________________________________\n",
      "flatten_2 (Flatten)          (None, 3136)              0         \n",
      "_________________________________________________________________\n",
      "dense_4 (Dense)              (None, 1000)              3137000   \n",
      "_________________________________________________________________\n",
      "dropout_5 (Dropout)          (None, 1000)              0         \n",
      "_________________________________________________________________\n",
      "dense_5 (Dense)              (None, 10)                10010     \n",
      "=================================================================\n",
      "Total params: 3,156,098\n",
      "Trainable params: 3,156,098\n",
      "Non-trainable params: 0\n",
      "_________________________________________________________________\n"
     ]
    }
   ],
   "source": [
    "batch_size =128\n",
    "epochs= 12\n",
    "nb_classes=10\n",
    "\n",
    "model = Sequential()\n",
    "model.add(Conv2D(32, kernel_size=(5, 5), strides=(1, 1), padding='same',\n",
    "                 activation='relu',\n",
    "                 input_shape=input_shape))\n",
    "model.add(MaxPooling2D(pool_size=(2, 2), strides=(2, 2)))\n",
    "model.add(Conv2D(64, (2, 2), activation='relu', padding='same'))\n",
    "model.add(MaxPooling2D(pool_size=(2, 2)))\n",
    "model.add(Dropout(0.25))\n",
    "model.add(Flatten())\n",
    "model.add(Dense(1000, activation='relu'))\n",
    "model.add(Dropout(0.5))\n",
    "model.add(Dense(nb_classes, activation='softmax'))\n",
    "model.summary()\n",
    "model.compile(loss=\"categorical_crossentropy\", optimizer=\"adam\", metrics=[\"accuracy\"])\n"
   ]
  },
  {
   "cell_type": "code",
   "execution_count": 10,
   "metadata": {},
   "outputs": [
    {
     "name": "stdout",
     "output_type": "stream",
     "text": [
      "Epoch 1/12\n",
      "469/469 [==============================] - 15s 33ms/step - loss: 0.1874 - accuracy: 0.9405 - val_loss: 0.0496 - val_accuracy: 0.9838\n",
      "Epoch 2/12\n",
      "469/469 [==============================] - 16s 33ms/step - loss: 0.0596 - accuracy: 0.9813 - val_loss: 0.0317 - val_accuracy: 0.9894\n",
      "Epoch 3/12\n",
      "469/469 [==============================] - 16s 34ms/step - loss: 0.0442 - accuracy: 0.9863 - val_loss: 0.0281 - val_accuracy: 0.9898\n",
      "Epoch 4/12\n",
      "469/469 [==============================] - 16s 34ms/step - loss: 0.0356 - accuracy: 0.9892 - val_loss: 0.0269 - val_accuracy: 0.9918\n",
      "Epoch 5/12\n",
      "469/469 [==============================] - 16s 34ms/step - loss: 0.0296 - accuracy: 0.9899 - val_loss: 0.0226 - val_accuracy: 0.9920\n",
      "Epoch 6/12\n",
      "469/469 [==============================] - 16s 34ms/step - loss: 0.0257 - accuracy: 0.9918 - val_loss: 0.0247 - val_accuracy: 0.9915\n",
      "Epoch 7/12\n",
      "469/469 [==============================] - 16s 34ms/step - loss: 0.0232 - accuracy: 0.9925 - val_loss: 0.0226 - val_accuracy: 0.9932\n",
      "Epoch 8/12\n",
      "469/469 [==============================] - 16s 34ms/step - loss: 0.0214 - accuracy: 0.9927 - val_loss: 0.0240 - val_accuracy: 0.9925\n",
      "Epoch 9/12\n",
      "469/469 [==============================] - 16s 34ms/step - loss: 0.0188 - accuracy: 0.9939 - val_loss: 0.0277 - val_accuracy: 0.9919\n",
      "Epoch 10/12\n",
      "469/469 [==============================] - 16s 34ms/step - loss: 0.0172 - accuracy: 0.9939 - val_loss: 0.0279 - val_accuracy: 0.9921\n",
      "Epoch 11/12\n",
      "469/469 [==============================] - 16s 35ms/step - loss: 0.0161 - accuracy: 0.9948 - val_loss: 0.0212 - val_accuracy: 0.9934\n",
      "Epoch 12/12\n",
      "469/469 [==============================] - 16s 35ms/step - loss: 0.0140 - accuracy: 0.9952 - val_loss: 0.0272 - val_accuracy: 0.9919\n"
     ]
    }
   ],
   "source": [
    "history = model.fit(x_train, y_train, batch_size=batch_size, epochs=epochs, verbose=1, validation_data=(x_test, y_test))"
   ]
  },
  {
   "cell_type": "code",
   "execution_count": 11,
   "metadata": {},
   "outputs": [
    {
     "name": "stdout",
     "output_type": "stream",
     "text": [
      "test loss:  0.027238689363002777\n",
      "test acc :  0.9919000267982483\n"
     ]
    }
   ],
   "source": [
    "score = model.evaluate(x_test, y_test, verbose=0)\n",
    "print(\"test loss: \", score[0])\n",
    "print(\"test acc : \", score[1])\n"
   ]
  },
  {
   "cell_type": "code",
   "execution_count": 13,
   "metadata": {},
   "outputs": [
    {
     "data": {
      "image/png": "[encoded data removed]",
      "text/plain": [
       "<Figure size 432x288 with 1 Axes>"
      ]
     },
     "metadata": {
      "needs_background": "light"
     },
     "output_type": "display_data"
    },
    {
     "name": "stdout",
     "output_type": "stream",
     "text": [
      "WARNING:tensorflow:From <ipython-input-13-6a8097c55a1c>:4: Sequential.predict_classes (from tensorflow.python.keras.engine.sequential) is deprecated and will be removed after 2021-01-01.\n",
      "Instructions for updating:\n",
      "Please use instead:* `np.argmax(model.predict(x), axis=-1)`,   if your model does multi-class classification   (e.g. if it uses a `softmax` last-layer activation).* `(model.predict(x) > 0.5).astype(\"int32\")`,   if your model does binary classification   (e.g. if it uses a `sigmoid` last-layer activation).\n",
      "answer:  [7]\n"
     ]
    }
   ],
   "source": [
    "n=0\n",
    "plt.imshow(x_test[n].reshape(28,28) , cmap=\"Greys\", interpolation=\"nearest\")\n",
    "plt.show()\n",
    "print(\"answer: \", model.predict_classes( x_test[n].reshape(1,28,28,1)) )"
   ]
  },
  {
   "cell_type": "code",
   "execution_count": 17,
   "metadata": {},
   "outputs": [
    {
     "data": {
      "image/png": "[encoded data removed]",
      "text/plain": [
       "<Figure size 864x576 with 16 Axes>"
      ]
     },
     "metadata": {
      "needs_background": "light"
     },
     "output_type": "display_data"
    }
   ],
   "source": [
    "import random\n",
    "\n",
    "predicted_result = model.predict(x_test) # [9.9003312e-15 2.3623783e-11 .... 1.0000000e+00 3.8261037e-14 8.4209018e-10]\n",
    "predicted_labels = np.argmax(predicted_result, axis=1)\n",
    "\n",
    "test_labels = np.argmax(y_test, axis=1)\n",
    "wrong_result=[]\n",
    "for n in range(0, len(test_labels)):\n",
    "    if predicted_labels[n] != test_labels[n]:\n",
    "        wrong_result.append(n)\n",
    "        \n",
    "samples = random.choices(population = wrong_result, k=16)\n",
    "\n",
    "count = 0\n",
    "nrows = ncols = 4\n",
    "\n",
    "plt.figure(figsize=(12,8))\n",
    "\n",
    "for n in samples:\n",
    "    count += 1\n",
    "    plt.subplot(nrows, ncols, count)\n",
    "    plt.imshow(x_test[n].reshape(28, 28), cmap='Greys', interpolation='nearest')\n",
    "    tmp = \"Label:\" + str(test_labels[n]) + \", Prediction:\" + str(predicted_labels[n])\n",
    "    plt.title(tmp)\n",
    "\n",
    "plt.tight_layout()\n",
    "plt.show()"
   ]
  },
  {
   "cell_type": "code",
   "execution_count": null,
   "metadata": {},
   "outputs": [],
   "source": []
  }
 ],
 "metadata": {
  "kernelspec": {
   "display_name": "Python 3",
   "language": "python",
   "name": "python3"
  },
  "language_info": {
   "codemirror_mode": {
    "name": "ipython",
    "version": 3
   },
   "file_extension": ".py",
   "mimetype": "text/x-python",
   "name": "python",
   "nbconvert_exporter": "python",
   "pygments_lexer": "ipython3",
   "version": "3.7.0"
  }
 },
 "nbformat": 4,
 "nbformat_minor": 4
}
