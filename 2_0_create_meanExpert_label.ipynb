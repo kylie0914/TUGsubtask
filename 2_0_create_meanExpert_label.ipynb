{
 "cells": [
  {
   "cell_type": "markdown",
   "id": "static-mission",
   "metadata": {},
   "source": [
    "# Calculate and Save Average Ground Truth from Multi Expert Label(Answer)  \n",
    "- Bring each Dataset and calc. average label   \n",
    "- Save \"subname , trial , actFrames \" "
   ]
  },
  {
   "cell_type": "code",
   "execution_count": 1,
   "id": "behind-violin",
   "metadata": {},
   "outputs": [
    {
     "name": "stdout",
     "output_type": "stream",
     "text": [
      " --------- Seleced Type: LPF (4th) Cutoff  0.3 Hz\n",
      "/DockerProjects/Dataset/TUG/trainSet/HMMpaper/mixLabel/{folder}/0_sideView/stroke \t Target_type:  stroke\n"
     ]
    }
   ],
   "source": [
    "import pandas as pd\n",
    "import os,re\n",
    "\n",
    "homeDir = \"/DockerProjects/walkCAM/tug/temporalCNN_wLabel\"\n",
    "os.chdir(homeDir);\n",
    "\n",
    "def get_frame_number(name):\n",
    "    if not name:\n",
    "        return 0\n",
    "    x = [int(s) for s in name[:-4].split('_') if s.isdigit()]\n",
    "    return x[0]\n",
    "    \n",
    "    \n",
    "lpf_order = 4\n",
    "cut_off = 0.3\n",
    "dataset_type = 'stroke' # stroke -3 ,  norm60 -22,  norm20 -1\n",
    "\n",
    "\n",
    "\n",
    "selected_LPF = \"c{0}o{1}\".format(cut_off,lpf_order).replace(\".\",\"-\")\n",
    "print(\" --------- Seleced Type: LPF (4th) Cutoff \",cut_off,\"Hz\")\n",
    "\n",
    "rootDir = \"/DockerProjects/Dataset/TUG/trainSet/HMMpaper/mixLabel\" \n",
    "folder1 = 'LSTM2HMM_saveResults_illness_KYH'\n",
    "folder2 = 'LSTM2HMM_saveResults_illness_KHJ'\n",
    "\n",
    "\n",
    "path = '/DockerProjects/Dataset/TUG/trainSet/HMMpaper/mixLabel' + '/{folder}/0_sideView/'+dataset_type\n",
    "\n",
    "print(path , \"\\t Target_type: \", dataset_type)\n",
    "\n",
    "\n"
   ]
  },
  {
   "cell_type": "code",
   "execution_count": 2,
   "id": "optional-broad",
   "metadata": {},
   "outputs": [
    {
     "name": "stdout",
     "output_type": "stream",
     "text": [
      "Except File List (Subject, Trial):  KJH_TUG_tool _ 03\n",
      "Except File List (Subject, Trial):  KJH_TUG_tool _ 00\n",
      "Except File List (Subject, Trial):  KJH_TUG_tool _ 01\n",
      "Except File List (Subject, Trial):  KJH_TUG_tool _ 04\n",
      "Except File List (Subject, Trial):  KJH_TUG_tool _ 02\n",
      "Except File List (Subject, Trial):  KYS_TUG_tool _ 01\n",
      "Except File List (Subject, Trial):  KYS2_TUG _ 03\n",
      "# of exception files:  7\n"
     ]
    }
   ],
   "source": [
    "dir_tuples = [tuple for tuple in os.walk(path.format(folder=folder1)) if not tuple[1] and (any('label') in file for file in tuple[2])]\n",
    "\n",
    "li = []\n",
    "except_trials = 0\n",
    "for tuple in dir_tuples:\n",
    "    seperated_path = tuple[0].split('/')\n",
    "    \n",
    "    subject = seperated_path[-2]\n",
    "    trial = seperated_path[-1]\n",
    "    csvname = 'label_'+subject+'_'+trial+'.csv'\n",
    "    try:\n",
    "        path_kyh = os.path.join(tuple[0], csvname)\n",
    "        df = pd.read_csv(path_kyh)\n",
    "        path_khj = path_kyh.replace(folder1, folder2)\n",
    "        df_from_each_file = (pd.read_csv(f) for f in (path_khj,path_kyh))\n",
    "        concatenated_df   = pd.concat(df_from_each_file, ignore_index=True).applymap(get_frame_number)\n",
    "        concatenated_df['subject'] = subject\n",
    "        concatenated_df['trial'] = trial\n",
    "        li.append(concatenated_df)\n",
    "    except:\n",
    "        except_trials +=1\n",
    "        print(\"Except File List (Subject, Trial): \", subject,\"_\", trial)\n",
    "        continue\n",
    "\n",
    "print(\"# of exception files: \", except_trials)\n",
    "\n",
    "saveMeanCsv_path = '/DockerProjects/Dataset/TUG/trainSet/HMMpaper/mixLabel/{selected_LPF}'.format(selected_LPF = selected_LPF)\n",
    "if not os.path.exists( saveMeanCsv_path):\n",
    "    os.makedirs(saveMeanCsv_path)\n",
    "pd.concat(li, axis=0, ignore_index=True).groupby(['subject','trial'], as_index=False).mean().round(0).sort_values(by=['subject','trial']).to_csv(\n",
    "    '/DockerProjects/Dataset/TUG/trainSet/HMMpaper/mixLabel/{selected_LPF}/{selected_LPF}_mean_{dataset_type}.csv'.format(selected_LPF = selected_LPF, dataset_type=dataset_type),index=False)"
   ]
  },
  {
   "cell_type": "code",
   "execution_count": null,
   "id": "coupled-charger",
   "metadata": {},
   "outputs": [],
   "source": []
  },
  {
   "cell_type": "code",
   "execution_count": null,
   "id": "gentle-motel",
   "metadata": {},
   "outputs": [],
   "source": []
  }
 ],
 "metadata": {
  "kernelspec": {
   "display_name": "Python 3",
   "language": "python",
   "name": "python3"
  },
  "language_info": {
   "codemirror_mode": {
    "name": "ipython",
    "version": 3
   },
   "file_extension": ".py",
   "mimetype": "text/x-python",
   "name": "python",
   "nbconvert_exporter": "python",
   "pygments_lexer": "ipython3",
   "version": "3.6.9"
  }
 },
 "nbformat": 4,
 "nbformat_minor": 5
}
