{
 "cells": [
  {
   "cell_type": "code",
   "execution_count": 2,
   "metadata": {},
   "outputs": [
    {
     "name": "stdout",
     "output_type": "stream",
     "text": [
      "utils CNN 객체 생성 -- Initialize\n",
      " Current workaing path [root] D:\\바탕화면\\Conda_WS\\tug_pjt\\own\\azureSkeleton_usingCNN\n",
      " Current workaing path [dataset]  D:\\바탕화면\\Dataset\\TUG\\arrangedData_LabelSave\n"
     ]
    }
   ],
   "source": [
    "import os\n",
    "import fnmatch\n",
    "import numpy as np\n",
    "import matplotlib.pyplot as plt\n",
    "\n",
    "from utils.utils_autoLabeled_CNN import utilsCNN\n",
    "\n",
    "utils = utilsCNN()\n",
    "np.random.seed(7)\n",
    "np.set_printoptions(precision=4)\n",
    "\n",
    "datasetDir = 'D:/바탕화면/Dataset/TUG/arrangedData_LabelSave' ; \n",
    "print(\" Current workaing path [root]\", os.getcwd())  \n",
    "\n",
    "os.chdir(datasetDir) ; print(\" Current workaing path [dataset] \", os.getcwd())  # -- Dataset 있는 곳으로 경로 변경 \n",
    "\n",
    "\n",
    "# utils.getDataLists(datasetDir, dataForm=\"Labeled_CSV\", displayList = False)\n",
    "\n",
    "# #         self.eachCSV_Dir = []  # subjectFoloder Dir\n",
    "# #         self.dateFolderlist = []\n",
    "# #         self.subjectFolderlist = [] #subjectFolder Name (list \n",
    "# #         self.csvFilelist = []\n",
    "# #         self.totalSubjectNum =0\n",
    "# #         self.totalCSVfiles = 0"
   ]
  },
  {
   "cell_type": "code",
   "execution_count": 9,
   "metadata": {},
   "outputs": [
    {
     "ename": "IndentationError",
     "evalue": "unexpected indent (<ipython-input-9-2be1560a5236>, line 11)",
     "output_type": "error",
     "traceback": [
      "\u001b[1;36m  File \u001b[1;32m\"<ipython-input-9-2be1560a5236>\"\u001b[1;36m, line \u001b[1;32m11\u001b[0m\n\u001b[1;33m    print(totalSubjectNum)\u001b[0m\n\u001b[1;37m    ^\u001b[0m\n\u001b[1;31mIndentationError\u001b[0m\u001b[1;31m:\u001b[0m unexpected indent\n"
     ]
    }
   ],
   "source": [
    "# arrangedData_LabelSave\\   2020_11_03_(result)\\  Labeled_CSV\\  NHJ_60\n",
    "def getPelvisData(path, fileName):\n",
    "    csvFile = os.path.join(path, fileName)\n",
    "    \n",
    "    rawData = np.loadtxt(csvFile, delimiter=\",\")\n",
    "    frame = rawData[:, 0]\n",
    "    pelvis_x = rawData[:, 1]\n",
    "    pelvis_y = rawData[:, 2]\n",
    "    pelvis_z = rawData[:, 3]\n",
    "    action = rawData[:, 4:9]\n",
    "    \n",
    "    os.getcwd()\n",
    "    return frame, pelvis_x, pelvis_y, pelvis_z, action\n",
    "\n",
    "dateDir = os.path.join(datasetDir, dateFolder)\n",
    "formatDir = os.path.join(dateDir, \"Labeled_CSV\")\n",
    "subjectDir = os.path.join(formatDir, subjectFolder)\n",
    "getPelvisData()\n",
    "\n",
    "    \n"
   ]
  },
  {
   "cell_type": "code",
   "execution_count": 7,
   "metadata": {},
   "outputs": [
    {
     "ename": "NameError",
     "evalue": "name 'getPelvisData' is not defined",
     "output_type": "error",
     "traceback": [
      "\u001b[1;31m---------------------------------------------------------------------------\u001b[0m",
      "\u001b[1;31mNameError\u001b[0m                                 Traceback (most recent call last)",
      "\u001b[1;32m<ipython-input-7-440df348fb6f>\u001b[0m in \u001b[0;36m<module>\u001b[1;34m\u001b[0m\n\u001b[1;32m----> 1\u001b[1;33m \u001b[0mgetPelvisData\u001b[0m\u001b[1;33m(\u001b[0m\u001b[1;33m)\u001b[0m\u001b[1;33m\u001b[0m\u001b[1;33m\u001b[0m\u001b[0m\n\u001b[0m",
      "\u001b[1;31mNameError\u001b[0m: name 'getPelvisData' is not defined"
     ]
    }
   ],
   "source": []
  },
  {
   "cell_type": "code",
   "execution_count": null,
   "metadata": {},
   "outputs": [],
   "source": []
  }
 ],
 "metadata": {
  "kernelspec": {
   "display_name": "Python 3",
   "language": "python",
   "name": "python3"
  },
  "language_info": {
   "codemirror_mode": {
    "name": "ipython",
    "version": 3
   },
   "file_extension": ".py",
   "mimetype": "text/x-python",
   "name": "python",
   "nbconvert_exporter": "python",
   "pygments_lexer": "ipython3",
   "version": "3.7.9"
  }
 },
 "nbformat": 4,
 "nbformat_minor": 4
}
