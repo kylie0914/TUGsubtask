{
 "cells": [
  {
   "cell_type": "markdown",
   "id": "rubber-suggestion",
   "metadata": {},
   "source": [
    "# Using  \"subname , trial , actFrames \" in Average Ground Truth   \n",
    "- Copy other Basic Data (skeleton data, Image data and create Label csv file)   "
   ]
  },
  {
   "cell_type": "code",
   "execution_count": 9,
   "id": "directed-quest",
   "metadata": {},
   "outputs": [
    {
     "name": "stdout",
     "output_type": "stream",
     "text": [
      " --------- Seleced Type: LPF (4th) Cutoff  0.3 Hz\n",
      "selected_type:  stroke \n",
      " --> File Path:  /DockerProjects/Dataset/TUG/trainSet/HMMpaper/mixLabel/c0-3o4/c0-3o4_mean_stroke.csv\n"
     ]
    }
   ],
   "source": [
    "import os\n",
    "import numpy as np \n",
    "\n",
    "import shutil\n",
    "import pandas as pd\n",
    "\n",
    "lpf_order = 4\n",
    "cut_off = 0.3\n",
    "selected_LPF = \"c{0}o{1}\".format(cut_off,lpf_order).replace(\".\",\"-\")\n",
    "print(\" --------- Seleced Type: LPF (4th) Cutoff \",cut_off,\"Hz\")\n",
    "\n",
    "selected_type = 'stroke' # stroke -3 ,  norm60 -22,  norm20 -1\n",
    "mean_datalist = \"/DockerProjects/Dataset/TUG/trainSet/HMMpaper/mixLabel/{selected_LPF}/{selected_LPF}_mean_{selected_type}.csv\".format(selected_LPF=selected_LPF, selected_type=selected_type)\n",
    "\n",
    "print(\"selected_type: \", selected_type, \"\\n --> File Path: \", mean_datalist )"
   ]
  },
  {
   "cell_type": "code",
   "execution_count": 10,
   "id": "massive-skirt",
   "metadata": {},
   "outputs": [],
   "source": [
    "def copyData_fromList(subname, trial, actFrame):   \n",
    "    copyImg = []    \n",
    "    \n",
    "    #---- Copy Image\n",
    "    for label in actFrame:\n",
    "        copyImg.append( \"color_\" + \"{0:05d}\".format(label) + \".jpg\" )\n",
    "        \n",
    "        copy_from = \"/DockerProjects/Dataset/TUG/arrangedData_illness/0_sideView/\" + selected_type + \"/\" + str(subname) + \"/\" +  \"{0:02d}\".format(trial)\n",
    "        copy_to = \"/DockerProjects/Dataset/TUG/trainSet/HMMpaper/\" +selected_LPF+\"/HMM_saveResults_illness_mean/0_sideView/\" + selected_type + \"/\" + str(subname) + \"/\" + \"{0:02d}\".format(trial)\n",
    "        \n",
    "        if not os.path.exists(copy_from):\n",
    "            copy_from = \"/DockerProjects/Dataset/TUG/arrangedData_illness/0_sideView/\" + selected_type + \"/\" + str(subname) + \"/\" +  \"{0:03d}\".format(trial)\n",
    "        \n",
    "        if not os.path.exists(copy_to):\n",
    "            os.makedirs(copy_to)        \n",
    "        \n",
    "        for img in copyImg:\n",
    "            if os.path.isfile(copy_to + \"/\" + img):  # /DockerProjects/Dataset/TUG/trainSet/HMMpaper/HMM_saveResults_illness_mean/0_sideView\n",
    "                pass\n",
    "            else:\n",
    "                shutil.copy2(copy_from + \"/\" + img, copy_to + \"/\" + img)\n",
    "        \n",
    "    #---- Copy Skeleton csv\n",
    "    skeleton_csv = \"skeleton_\" + str(subname) + \"_\" + \"{0:02d}\".format(trial) + \".csv\"\n",
    "    files = os.listdir(copy_from)\n",
    "    for filename in files:\n",
    "        if \".csv\" in filename:\n",
    "            shutil.copy2(copy_from + \"/\" + filename, copy_to + \"/\" + skeleton_csv)\n",
    "#             print(subname, trial, skeleton_csv)\n",
    "\n",
    "    #---- Create Label File\n",
    "    label_csv = \"label_\" + str(subname) + \"_\" + \"{0:02d}\".format(trial) + \".csv\"\n",
    "    \n",
    "    label_file = open(copy_to + \"/\" + label_csv, \"w+\")\n",
    "    label_file.write(\"startMove,startWalk,startTurn,endTurn,startSit,endSit\\n\")\n",
    "    for idx,val in enumerate(copyImg):        \n",
    "        label_file.write(copyImg[idx]) \n",
    "        if idx ==5:\n",
    "            break\n",
    "        label_file.write(\",\") \n",
    "    label_file.close()\n",
    "    \n",
    "    return copyImg\n",
    "\n",
    "    \n",
    "    "
   ]
  },
  {
   "cell_type": "code",
   "execution_count": 11,
   "id": "colored-friendship",
   "metadata": {},
   "outputs": [
    {
     "name": "stdout",
     "output_type": "stream",
     "text": [
      "HHS_TUG 1 ['color_00024.jpg', 'color_00052.jpg', 'color_00170.jpg', 'color_00232.jpg', 'color_00364.jpg', 'color_00419.jpg']\n",
      "HHS_TUG 2 ['color_00026.jpg', 'color_00058.jpg', 'color_00176.jpg', 'color_00238.jpg', 'color_00380.jpg', 'color_00424.jpg']\n",
      "KSJ_TUG 0 ['color_00044.jpg', 'color_00089.jpg', 'color_00209.jpg', 'color_00281.jpg', 'color_00416.jpg', 'color_00474.jpg']\n",
      "KSJ_TUG 1 ['color_00024.jpg', 'color_00063.jpg', 'color_00171.jpg', 'color_00242.jpg', 'color_00358.jpg', 'color_00405.jpg']\n",
      "KTS_TUG 2 ['color_00028.jpg', 'color_00056.jpg', 'color_00206.jpg', 'color_00285.jpg', 'color_00494.jpg', 'color_00531.jpg']\n",
      "RJD_TUG 0 ['color_00018.jpg', 'color_00066.jpg', 'color_00258.jpg', 'color_00368.jpg', 'color_00587.jpg', 'color_00652.jpg']\n",
      "RJD_TUG 2 ['color_00010.jpg', 'color_00046.jpg', 'color_00220.jpg', 'color_00300.jpg', 'color_00487.jpg', 'color_00542.jpg']\n",
      "RJD_TUG 5 ['color_00018.jpg', 'color_00057.jpg', 'color_00242.jpg', 'color_00335.jpg', 'color_00504.jpg', 'color_00546.jpg']\n",
      "RJD_TUG 7 ['color_00010.jpg', 'color_00044.jpg', 'color_00200.jpg', 'color_00274.jpg', 'color_00457.jpg', 'color_00494.jpg']\n",
      "RJD_TUG 8 ['color_00012.jpg', 'color_00045.jpg', 'color_00216.jpg', 'color_00304.jpg', 'color_00474.jpg', 'color_00519.jpg']\n",
      "RJD_TUG 9 ['color_00024.jpg', 'color_00060.jpg', 'color_00231.jpg', 'color_00333.jpg', 'color_00526.jpg', 'color_00575.jpg']\n",
      "SRH_TUG 1 ['color_00012.jpg', 'color_00070.jpg', 'color_00374.jpg', 'color_00576.jpg', 'color_00924.jpg', 'color_01000.jpg']\n",
      "\n",
      "\n",
      " Total Trials:  12\n"
     ]
    }
   ],
   "source": [
    "subjects = np.loadtxt(mean_datalist, delimiter = \",\" , dtype=str, skiprows=1, usecols=0)\n",
    "data = np.loadtxt(mean_datalist, delimiter = \",\" , dtype=np.uint32, skiprows=1, usecols=(1,2,3,4,5,6,7))\n",
    "\n",
    "total_trials = 0\n",
    "for idx, sub in enumerate(subjects):\n",
    "    trial = data[idx,0]\n",
    "    actFrame = [data[idx,1], data[idx,2], data[idx,3], data[idx,4], data[idx,5], data[idx,6] ]\n",
    "    copyImg = copyData_fromList(sub, trial, actFrame)\n",
    "    total_trials+=1\n",
    "    print(sub, trial, copyImg)\n",
    "    \n",
    "print(\"\\n\\n Total Trials: \", total_trials)\n"
   ]
  },
  {
   "cell_type": "code",
   "execution_count": null,
   "id": "affecting-genetics",
   "metadata": {},
   "outputs": [],
   "source": []
  },
  {
   "cell_type": "code",
   "execution_count": null,
   "id": "confident-excitement",
   "metadata": {},
   "outputs": [],
   "source": []
  }
 ],
 "metadata": {
  "kernelspec": {
   "display_name": "Python 3",
   "language": "python",
   "name": "python3"
  },
  "language_info": {
   "codemirror_mode": {
    "name": "ipython",
    "version": 3
   },
   "file_extension": ".py",
   "mimetype": "text/x-python",
   "name": "python",
   "nbconvert_exporter": "python",
   "pygments_lexer": "ipython3",
   "version": "3.6.9"
  }
 },
 "nbformat": 4,
 "nbformat_minor": 5
}
